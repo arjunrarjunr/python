{
 "cells": [
  {
   "cell_type": "code",
   "execution_count": null,
   "id": "e224f5aa-637a-4a3e-8665-e62070f8e5a5",
   "metadata": {},
   "outputs": [],
   "source": [
    "class stats:\n",
    "    def __init__(self):\n",
    "        pass\n",
    "    \n",
    "        "
   ]
  }
 ],
 "metadata": {
  "kernelspec": {
   "display_name": "Python 3 (ipykernel)",
   "language": "python",
   "name": "python3"
  },
  "language_info": {
   "name": ""
  }
 },
 "nbformat": 4,
 "nbformat_minor": 5
}
