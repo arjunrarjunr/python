{
 "cells": [
  {
   "cell_type": "code",
   "execution_count": 17,
   "id": "a6ac33c9",
   "metadata": {},
   "outputs": [],
   "source": [
    "import re\n"
   ]
  },
  {
   "cell_type": "code",
   "execution_count": 18,
   "id": "9c6f4a04",
   "metadata": {},
   "outputs": [],
   "source": [
    "x='''Incubation 10 -1 M T0 MIN\n",
    "Incubation 10-2 M T0 MIN\n",
    "Incubation 10-3 M T0 MIN\n",
    "Incubation 10-4 M T0 MIN\n",
    "Incubation 10-5 M T0 MIN\n",
    "Incubation 10-6 M T0 MIN\n",
    "Incubation 10-7 M T0 MIN\n",
    "Incubation 10-8 M T0 MIN\n",
    "Incubation 10-9 M T0 MIN\n",
    "Incubation 10-10 M T0 MIN\n",
    "Incubation 10-11 M T0 MIN\n",
    "Incubation 10-12 M T0 MIN\n",
    "Incubation 10-13 M T0 MIN\n",
    "Incubation 10-14 M T0 MIN'''"
   ]
  },
  {
   "cell_type": "code",
   "execution_count": 19,
   "id": "8eb439ff",
   "metadata": {},
   "outputs": [],
   "source": [
    "x=x.split('\\n')"
   ]
  },
  {
   "cell_type": "code",
   "execution_count": 20,
   "metadata": {},
   "outputs": [
    {
     "name": "stdout",
     "output_type": "stream",
     "text": [
      "Incubation\n",
      "Incubation\n",
      "Incubation\n",
      "Incubation\n",
      "Incubation\n",
      "Incubation\n",
      "Incubation\n",
      "Incubation\n",
      "Incubation\n",
      "Incubation\n",
      "Incubation\n",
      "Incubation\n",
      "Incubation\n",
      "Incubation\n"
     ]
    }
   ],
   "source": [
    "for i in x:\n",
    "    f = re.findall(r'([A-Za-z]*)[0-9\\s]*-',i)[0]\n",
    "    print(f)"
   ]
  },
  {
   "cell_type": "code",
   "execution_count": 21,
   "metadata": {},
   "outputs": [],
   "source": [
    "x=''' were 21565464 records\n",
    "were 2156875464 records\n",
    "were 21545565464 records\n",
    "were 21565245464 records\n",
    "were 2156434865464 records\n",
    "were 21587665464 records\n",
    "were 215876665464 records\n",
    "were 21527468765464 records\n",
    "were 21567855464 records'''"
   ]
  },
  {
   "cell_type": "code",
   "execution_count": 22,
   "metadata": {},
   "outputs": [],
   "source": [
    "x=x.split('\\n')"
   ]
  },
  {
   "cell_type": "code",
   "execution_count": 24,
   "metadata": {},
   "outputs": [
    {
     "name": "stdout",
     "output_type": "stream",
     "text": [
      "21565464\n",
      "2156875464\n",
      "21545565464\n",
      "21565245464\n",
      "2156434865464\n",
      "21587665464\n",
      "215876665464\n",
      "21527468765464\n",
      "21567855464\n"
     ]
    }
   ],
   "source": [
    "for i in x:\n",
    "    f = re.findall(r'were (\\d*) records',i)[0]\n",
    "    print(f)"
   ]
  }
 ],
 "metadata": {
  "kernelspec": {
   "display_name": "Python 3.10.6 64-bit",
   "language": "python",
   "name": "python3"
  },
  "language_info": {
   "codemirror_mode": {
    "name": "ipython",
    "version": 3
   },
   "file_extension": ".py",
   "mimetype": "text/x-python",
   "name": "python",
   "nbconvert_exporter": "python",
   "pygments_lexer": "ipython3",
   "version": "3.10.10"
  },
  "orig_nbformat": 4,
  "vscode": {
   "interpreter": {
    "hash": "573f8c4297b1e807d4e4d51bc4704711e08f3eef39a212b98b763079568da1b1"
   }
  }
 },
 "nbformat": 4,
 "nbformat_minor": 2
}
