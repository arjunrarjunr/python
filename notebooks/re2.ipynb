{
 "cells": [
  {
   "cell_type": "code",
   "execution_count": 1,
   "id": "a6ac33c9",
   "metadata": {},
   "outputs": [],
   "source": [
    "import re\n"
   ]
  },
  {
   "cell_type": "code",
   "execution_count": 2,
   "id": "9c6f4a04",
   "metadata": {},
   "outputs": [],
   "source": [
    "x='''10 -1 M HOMME 0 MIN\n",
    "10-2 M RAT 0 MIN\n",
    "10-3 M HOMME 10MIN\n",
    "10-4 M RAT 20 MIN\n",
    "10-5 M HOMME 30 MIN\n",
    "10-6 M  RAT 40 MIN\n",
    "10-7 M HOMME 50 MIN\n",
    "10-8 M RAT 60MIN\n",
    "10-9M HOMME 70 MIN\n",
    "10-10 M RAT 80MIN\n",
    "10-11M MOUSE 90 MIN\n",
    "10-12 M  RAT 100MIN\n",
    "10-13 M HOMME 110 MIN\n",
    "10-14 M RAT 120MIN'''"
   ]
  },
  {
   "cell_type": "code",
   "execution_count": 3,
   "id": "8eb439ff",
   "metadata": {},
   "outputs": [],
   "source": [
    "x=x.split('\\n')"
   ]
  },
  {
   "cell_type": "code",
   "execution_count": 4,
   "metadata": {},
   "outputs": [
    {
     "data": {
      "text/plain": [
       "['10 -1 M HOMME 0 MIN',\n",
       " '10-2 M RAT 0 MIN',\n",
       " '10-3 M HOMME 10MIN',\n",
       " '10-4 M RAT 20 MIN',\n",
       " '10-5 M HOMME 30 MIN',\n",
       " '10-6 M  RAT 40 MIN',\n",
       " '10-7 M HOMME 50 MIN',\n",
       " '10-8 M RAT 60MIN',\n",
       " '10-9M HOMME 70 MIN',\n",
       " '10-10 M RAT 80MIN',\n",
       " '10-11M MOUSE 90 MIN',\n",
       " '10-12 M  RAT 100MIN',\n",
       " '10-13 M HOMME 110 MIN',\n",
       " '10-14 M RAT 120MIN']"
      ]
     },
     "execution_count": 4,
     "metadata": {},
     "output_type": "execute_result"
    }
   ],
   "source": [
    "x"
   ]
  },
  {
   "cell_type": "code",
   "execution_count": 5,
   "metadata": {},
   "outputs": [
    {
     "name": "stdout",
     "output_type": "stream",
     "text": [
      "HOMME\n",
      "RAT\n",
      "HOMME\n",
      "RAT\n",
      "HOMME\n",
      "RAT\n",
      "HOMME\n",
      "RAT\n",
      "HOMME\n",
      "RAT\n",
      "MOUSE\n",
      "RAT\n",
      "HOMME\n",
      "RAT\n"
     ]
    }
   ],
   "source": [
    "for i in x:\n",
    "    f = re.findall(r'[0-9\\s]*-[0-9\\s]*M[\\s]*([A-Za-z]*)[0-9\\s]*MIN',i.upper())[0]\n",
    "    print(f)"
   ]
  },
  {
   "cell_type": "code",
   "execution_count": 6,
   "id": "9c6f4a04",
   "metadata": {},
   "outputs": [],
   "source": [
    "x='''10 -1 M 1A2 1 0 MIN\n",
    "10-2 M 2C8 1 0 MIN\n",
    "10-3 M 2C9 0.33 10MIN\n",
    "10-4 M 2C19 1 20 MIN\n",
    "10-5 M 2D6 0.33 30 MIN\n",
    "10-6 M  3A4 1 40 MIN\n",
    "10-7 M HLM + BSA 0.33 50 MIN\n",
    "10-8 M HLM - BSA 0.33 60MIN\n",
    "10-9M HLM + BSA 0.33 70 MIN\n",
    "10-10 M HLM - BSA 0.99 80MIN\n",
    "10-11M HLM + BSA 0.66 90 MIN\n",
    "10-12 M  HLM - BSA 0.26 100MIN\n",
    "10-13 M HLM + BSA 0.55 110 MIN\n",
    "10-14 M HLM - BSA 0.58 120MIN'''"
   ]
  },
  {
   "cell_type": "code",
   "execution_count": 7,
   "id": "8eb439ff",
   "metadata": {},
   "outputs": [],
   "source": [
    "x=x.split('\\n')"
   ]
  },
  {
   "cell_type": "code",
   "execution_count": 8,
   "metadata": {},
   "outputs": [
    {
     "data": {
      "text/plain": [
       "['10 -1 M 1A2 1 0 MIN',\n",
       " '10-2 M 2C8 1 0 MIN',\n",
       " '10-3 M 2C9 0.33 10MIN',\n",
       " '10-4 M 2C19 1 20 MIN',\n",
       " '10-5 M 2D6 0.33 30 MIN',\n",
       " '10-6 M  3A4 1 40 MIN',\n",
       " '10-7 M HLM + BSA 0.33 50 MIN',\n",
       " '10-8 M HLM - BSA 0.33 60MIN',\n",
       " '10-9M HLM + BSA 0.33 70 MIN',\n",
       " '10-10 M HLM - BSA 0.99 80MIN',\n",
       " '10-11M HLM + BSA 0.66 90 MIN',\n",
       " '10-12 M  HLM - BSA 0.26 100MIN',\n",
       " '10-13 M HLM + BSA 0.55 110 MIN',\n",
       " '10-14 M HLM - BSA 0.58 120MIN']"
      ]
     },
     "execution_count": 8,
     "metadata": {},
     "output_type": "execute_result"
    }
   ],
   "source": [
    "x"
   ]
  },
  {
   "cell_type": "code",
   "execution_count": 9,
   "metadata": {},
   "outputs": [
    {
     "name": "stdout",
     "output_type": "stream",
     "text": [
      "['1A2']\n",
      "['2C8']\n",
      "['2C9']\n",
      "['2C19']\n",
      "['2D6']\n",
      "['3A4']\n",
      "['HLM + BSA']\n",
      "['HLM - BSA']\n",
      "['HLM + BSA']\n",
      "['HLM - BSA']\n",
      "['HLM + BSA']\n",
      "['HLM - BSA']\n",
      "['HLM + BSA']\n",
      "['HLM - BSA']\n"
     ]
    }
   ],
   "source": [
    "for i in x:\n",
    "    if re.search(r'[0-9\\s]*-[0-9\\s]*M[\\s]*([A-Za-z0-9]*)[0-9\\s\\.]*MIN',i.upper()):\n",
    "        f = re.findall(r'[0-9\\s]*-[0-9\\s]*M[\\s]*([A-Za-z0-9]*)[0-9\\s\\.]*MIN',i.upper())\n",
    "        print(f)\n",
    "    elif re.search(r'[0-9\\s]*-[0-9\\s]*M[\\s]*([A-Za-z]*\\s*\\-\\s*[A-Za-z]*)[0-9\\s\\.]*MIN',i.upper()):\n",
    "        f = re.findall(r'[0-9\\s]*-[0-9\\s]*M[\\s]*([A-Za-z]*\\s*\\-\\s*[A-Za-z]*)[0-9\\s\\.]*MIN',i.upper())\n",
    "        print(f)\n",
    "    elif re.search(r'[0-9\\s]*-[0-9\\s]*M[\\s]*([A-Za-z]*\\s*\\+\\s*[A-Za-z]*)[0-9\\s\\.]*MIN',i.upper()):\n",
    "        f = re.findall(r'[0-9\\s]*-[0-9\\s]*M[\\s]*([A-Za-z]*\\s*\\+\\s*[A-Za-z]*)[0-9\\s\\.]*MIN',i.upper())\n",
    "        print(f)"
   ]
  },
  {
   "cell_type": "code",
   "execution_count": 10,
   "id": "9c6f4a04",
   "metadata": {},
   "outputs": [],
   "source": [
    "x='''10 -1 M Control 0 MIN\n",
    "10-2 M Desact 2D6 0 MIN\n",
    "10-3 M Desact 2C8 10MIN\n",
    "10-4 M Desact 2B6 1 20 MIN\n",
    "10-5 M Mic H36 30 MIN\n",
    "'''"
   ]
  },
  {
   "cell_type": "code",
   "execution_count": 11,
   "id": "8eb439ff",
   "metadata": {},
   "outputs": [],
   "source": [
    "x=x.split('\\n')"
   ]
  },
  {
   "cell_type": "code",
   "execution_count": 12,
   "metadata": {},
   "outputs": [
    {
     "data": {
      "text/plain": [
       "['10 -1 M Control 0 MIN',\n",
       " '10-2 M Desact 2D6 0 MIN',\n",
       " '10-3 M Desact 2C8 10MIN',\n",
       " '10-4 M Desact 2B6 1 20 MIN',\n",
       " '10-5 M Mic H36 30 MIN',\n",
       " '']"
      ]
     },
     "execution_count": 12,
     "metadata": {},
     "output_type": "execute_result"
    }
   ],
   "source": [
    "x"
   ]
  },
  {
   "cell_type": "code",
   "execution_count": 13,
   "metadata": {},
   "outputs": [
    {
     "name": "stdout",
     "output_type": "stream",
     "text": [
      "['CONTROL']\n",
      "['DESACT 2D6']\n",
      "['DESACT 2C8']\n",
      "['DESACT 2B6']\n",
      "['MIC H36']\n"
     ]
    }
   ],
   "source": [
    "for i in x:\n",
    "    if re.search(r'[0-9\\s]*-[0-9\\s]*M[\\s]*([A-Za-z0-9]*)[0-9\\s\\.]*MIN',i.upper()):\n",
    "        f = re.findall(r'[0-9\\s]*-[0-9\\s]*M[\\s]*([A-Za-z0-9]*)[0-9\\s\\.]*MIN',i.upper())\n",
    "        print(f)\n",
    "    elif re.search(r'[0-9\\s]*-[0-9\\s]*M[\\s]*([A-Za-z]*\\s*[A-Za-z0-9]*)[0-9\\s\\.]*MIN',i.upper()):\n",
    "        f = re.findall(r'[0-9\\s]*-[0-9\\s]*M[\\s]*([A-Za-z]*\\s*[A-Za-z0-9]*)[0-9\\s\\.]*MIN',i.upper())\n",
    "        print(f)"
   ]
  },
  {
   "cell_type": "code",
   "execution_count": null,
   "metadata": {},
   "outputs": [],
   "source": []
  },
  {
   "cell_type": "code",
   "execution_count": 14,
   "id": "9c6f4a04",
   "metadata": {},
   "outputs": [],
   "source": [
    "x='''10-1M 1A2 1 0MIN\n",
    "10-2M 2C8 1 0MIN\n",
    "10-3M 2C9 0.33 10MIN\n",
    "10-4M 2C19 1 20MIN\n",
    "10-5M 2D6 0.33 30MIN\n",
    "10-6M 3A4 1 40MIN\n",
    "10-7M HLM + BSA 0.33 50MIN\n",
    "10-8M HLM - BSA 0.33 60MIN\n",
    "10-9M HLM + BSA 0.33 70MIN\n",
    "10-10M HLM - BSA 0.99 80MIN\n",
    "10-11M HLM + BSA 0.66 90MIN\n",
    "10-12M HLM - BSA 0.26 100MIN\n",
    "10-13M HLM + BSA 0.55 110MIN\n",
    "10-14M HLM - BSA 0.58 120MIN'''"
   ]
  },
  {
   "cell_type": "code",
   "execution_count": null,
   "metadata": {},
   "outputs": [],
   "source": []
  },
  {
   "cell_type": "code",
   "execution_count": 15,
   "id": "8eb439ff",
   "metadata": {},
   "outputs": [],
   "source": [
    "x=x.split('\\n')"
   ]
  },
  {
   "cell_type": "code",
   "execution_count": 16,
   "metadata": {},
   "outputs": [
    {
     "data": {
      "text/plain": [
       "[4, 4, 4, 4, 4, 4, 6, 6, 6, 6, 6, 6, 6, 6]"
      ]
     },
     "execution_count": 16,
     "metadata": {},
     "output_type": "execute_result"
    }
   ],
   "source": [
    "[len(i.split(' ')) for i in x ]"
   ]
  },
  {
   "cell_type": "code",
   "execution_count": 17,
   "metadata": {},
   "outputs": [
    {
     "data": {
      "text/plain": [
       "[['10-1M', '1A2', '1', '0MIN'],\n",
       " ['10-2M', '2C8', '1', '0MIN'],\n",
       " ['10-3M', '2C9', '0.33', '10MIN'],\n",
       " ['10-4M', '2C19', '1', '20MIN'],\n",
       " ['10-5M', '2D6', '0.33', '30MIN'],\n",
       " ['10-6M', '3A4', '1', '40MIN'],\n",
       " ['10-7M', 'HLM', '+', 'BSA', '0.33', '50MIN'],\n",
       " ['10-8M', 'HLM', '-', 'BSA', '0.33', '60MIN'],\n",
       " ['10-9M', 'HLM', '+', 'BSA', '0.33', '70MIN'],\n",
       " ['10-10M', 'HLM', '-', 'BSA', '0.99', '80MIN'],\n",
       " ['10-11M', 'HLM', '+', 'BSA', '0.66', '90MIN'],\n",
       " ['10-12M', 'HLM', '-', 'BSA', '0.26', '100MIN'],\n",
       " ['10-13M', 'HLM', '+', 'BSA', '0.55', '110MIN'],\n",
       " ['10-14M', 'HLM', '-', 'BSA', '0.58', '120MIN']]"
      ]
     },
     "execution_count": 17,
     "metadata": {},
     "output_type": "execute_result"
    }
   ],
   "source": [
    "[i.split(' ') for i in x ]"
   ]
  },
  {
   "cell_type": "code",
   "execution_count": null,
   "metadata": {},
   "outputs": [],
   "source": [
    "x='''a = 1\n",
    "b @ 2\n",
    "c # 3\n",
    "d = 4\n",
    "e % 5'''"
   ]
  }
 ],
 "metadata": {
  "kernelspec": {
   "display_name": "Python 3.10.6 64-bit",
   "language": "python",
   "name": "python3"
  },
  "language_info": {
   "codemirror_mode": {
    "name": "ipython",
    "version": 3
   },
   "file_extension": ".py",
   "mimetype": "text/x-python",
   "name": "python",
   "nbconvert_exporter": "python",
   "pygments_lexer": "ipython3",
   "version": "3.10.7"
  },
  "orig_nbformat": 4,
  "vscode": {
   "interpreter": {
    "hash": "573f8c4297b1e807d4e4d51bc4704711e08f3eef39a212b98b763079568da1b1"
   }
  }
 },
 "nbformat": 4,
 "nbformat_minor": 2
}
