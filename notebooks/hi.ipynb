{
 "cells": [
  {
   "cell_type": "code",
   "execution_count": 1,
   "id": "a6ac33c9",
   "metadata": {},
   "outputs": [],
   "source": [
    "import re\n"
   ]
  },
  {
   "cell_type": "code",
   "execution_count": null,
   "id": "76ba485c",
   "metadata": {},
   "outputs": [],
   "source": []
  },
  {
   "cell_type": "code",
   "execution_count": 2,
   "id": "9c6f4a04",
   "metadata": {},
   "outputs": [],
   "source": [
    "x='''Incubation 10 -1 M T0 MIN\n",
    "Incubation 10-2 M T0 MIN\n",
    "Incubation 10-3 M T0 MIN\n",
    "Incubation 10-4 M T0 MIN\n",
    "Incubation 10-5 M T0 MIN\n",
    "Incubation 10-6 M T0 MIN\n",
    "Incubation 10-7 M T0 MIN\n",
    "Incubation 10-8 M T0 MIN\n",
    "Incubation 10-9 M T0 MIN\n",
    "Incubation 10-10 M T0 MIN\n",
    "Incubation 10-11 M T0 MIN\n",
    "Incubation 10-12 M T0 MIN\n",
    "Incubation 10-13 M T0 MIN\n",
    "Incubation 10-14 M T0 MIN'''"
   ]
  },
  {
   "cell_type": "code",
   "execution_count": 3,
   "id": "8eb439ff",
   "metadata": {},
   "outputs": [],
   "source": [
    "x=x.split('\\n')"
   ]
  },
  {
   "cell_type": "code",
   "execution_count": null,
   "id": "4aa945ec",
   "metadata": {},
   "outputs": [],
   "source": []
  },
  {
   "cell_type": "code",
   "execution_count": 4,
   "id": "6337eadf",
   "metadata": {},
   "outputs": [
    {
     "data": {
      "text/plain": [
       "1e-07"
      ]
     },
     "execution_count": 4,
     "metadata": {},
     "output_type": "execute_result"
    }
   ],
   "source": [
    "float(1e-7)"
   ]
  },
  {
   "cell_type": "code",
   "execution_count": 5,
   "id": "e63ffe0e",
   "metadata": {},
   "outputs": [],
   "source": [
    "x=[['a','b','c'],['a','b','c'],['a','b','c'],['a','b','c']]"
   ]
  },
  {
   "cell_type": "code",
   "execution_count": 6,
   "id": "815b1fe1",
   "metadata": {},
   "outputs": [
    {
     "name": "stdout",
     "output_type": "stream",
     "text": [
      "a\n",
      "a\n",
      "a\n",
      "a\n"
     ]
    }
   ],
   "source": [
    "for a,b,c in x:\n",
    "    print(a)"
   ]
  },
  {
   "cell_type": "code",
   "execution_count": 7,
   "id": "1f8d1fc5",
   "metadata": {},
   "outputs": [
    {
     "data": {
      "text/plain": [
       "[0,\n",
       " 0,\n",
       " 0,\n",
       " 0,\n",
       " 0,\n",
       " 1,\n",
       " 1,\n",
       " 1,\n",
       " 1,\n",
       " 1,\n",
       " 2,\n",
       " 2,\n",
       " 2,\n",
       " 2,\n",
       " 2,\n",
       " 3,\n",
       " 3,\n",
       " 3,\n",
       " 3,\n",
       " 3,\n",
       " 4,\n",
       " 4,\n",
       " 4,\n",
       " 4,\n",
       " 4,\n",
       " 5,\n",
       " 5,\n",
       " 5,\n",
       " 5,\n",
       " 5,\n",
       " 6,\n",
       " 6,\n",
       " 6,\n",
       " 6,\n",
       " 6,\n",
       " 7,\n",
       " 7,\n",
       " 7,\n",
       " 7,\n",
       " 7]"
      ]
     },
     "execution_count": 7,
     "metadata": {},
     "output_type": "execute_result"
    }
   ],
   "source": [
    "[i//5 for i in range(0,40)]"
   ]
  },
  {
   "cell_type": "code",
   "execution_count": 8,
   "id": "c7549186",
   "metadata": {},
   "outputs": [],
   "source": [
    "import os"
   ]
  },
  {
   "cell_type": "code",
   "execution_count": 9,
   "id": "b99283c8",
   "metadata": {},
   "outputs": [
    {
     "data": {
      "text/plain": [
       "'/root/notebooks'"
      ]
     },
     "execution_count": 9,
     "metadata": {},
     "output_type": "execute_result"
    }
   ],
   "source": [
    "os.getcwd()"
   ]
  },
  {
   "cell_type": "code",
   "execution_count": 10,
   "id": "d44c7a7c",
   "metadata": {},
   "outputs": [
    {
     "data": {
      "text/plain": [
       "('notebooks', '')"
      ]
     },
     "execution_count": 10,
     "metadata": {},
     "output_type": "execute_result"
    }
   ],
   "source": [
    "os.path.splitext(os.path.basename(os.getcwd()))"
   ]
  },
  {
   "cell_type": "code",
   "execution_count": 11,
   "id": "9196e8cd",
   "metadata": {},
   "outputs": [],
   "source": [
    "x='''Plate_1_CYP_data\n",
    "Plate_22_CYP_data\n",
    "Plate_333_CYP_data\n",
    "Plate_4444_CYP_data\n",
    "Plate_5555_CYP_data'''"
   ]
  },
  {
   "cell_type": "code",
   "execution_count": 12,
   "id": "306c6e63",
   "metadata": {},
   "outputs": [],
   "source": [
    "x=x.split('\\n')"
   ]
  },
  {
   "cell_type": "code",
   "execution_count": 13,
   "id": "544da46a",
   "metadata": {},
   "outputs": [
    {
     "data": {
      "text/plain": [
       "['Plate_1_CYP_data',\n",
       " 'Plate_22_CYP_data',\n",
       " 'Plate_333_CYP_data',\n",
       " 'Plate_4444_CYP_data',\n",
       " 'Plate_5555_CYP_data']"
      ]
     },
     "execution_count": 13,
     "metadata": {},
     "output_type": "execute_result"
    }
   ],
   "source": [
    "x"
   ]
  },
  {
   "cell_type": "code",
   "execution_count": 14,
   "id": "088c85cf",
   "metadata": {},
   "outputs": [
    {
     "data": {
      "text/plain": [
       "['1']"
      ]
     },
     "execution_count": 14,
     "metadata": {},
     "output_type": "execute_result"
    }
   ],
   "source": [
    "re.findall(r\"\\d+\",re.findall(r\"Plate_\\d+_CYP\",x[0])[0])"
   ]
  },
  {
   "cell_type": "code",
   "execution_count": 15,
   "id": "a7e2e6db",
   "metadata": {},
   "outputs": [
    {
     "data": {
      "text/plain": [
       "[0,\n",
       " 0,\n",
       " 0,\n",
       " 0,\n",
       " 0,\n",
       " 0,\n",
       " 0,\n",
       " 0,\n",
       " 0,\n",
       " 0,\n",
       " 0,\n",
       " 0,\n",
       " 0,\n",
       " 0,\n",
       " 0,\n",
       " 0,\n",
       " 0,\n",
       " 0,\n",
       " 0,\n",
       " 0,\n",
       " 0,\n",
       " 0,\n",
       " 0,\n",
       " 0,\n",
       " 1,\n",
       " 1,\n",
       " 1,\n",
       " 1,\n",
       " 1,\n",
       " 1,\n",
       " 1,\n",
       " 1,\n",
       " 1,\n",
       " 1,\n",
       " 1,\n",
       " 1,\n",
       " 1,\n",
       " 1,\n",
       " 1,\n",
       " 1,\n",
       " 1,\n",
       " 1,\n",
       " 1,\n",
       " 1,\n",
       " 1,\n",
       " 1,\n",
       " 1,\n",
       " 1,\n",
       " 2,\n",
       " 2,\n",
       " 2,\n",
       " 2,\n",
       " 2,\n",
       " 2,\n",
       " 2,\n",
       " 2,\n",
       " 2,\n",
       " 2,\n",
       " 2,\n",
       " 2,\n",
       " 2,\n",
       " 2,\n",
       " 2,\n",
       " 2,\n",
       " 2,\n",
       " 2,\n",
       " 2,\n",
       " 2,\n",
       " 2,\n",
       " 2,\n",
       " 2,\n",
       " 2,\n",
       " 3,\n",
       " 3,\n",
       " 3,\n",
       " 3,\n",
       " 3,\n",
       " 3,\n",
       " 3,\n",
       " 3,\n",
       " 3,\n",
       " 3,\n",
       " 3,\n",
       " 3,\n",
       " 3,\n",
       " 3,\n",
       " 3,\n",
       " 3,\n",
       " 3,\n",
       " 3,\n",
       " 3,\n",
       " 3,\n",
       " 3,\n",
       " 3,\n",
       " 3,\n",
       " 3,\n",
       " 4,\n",
       " 4,\n",
       " 4,\n",
       " 4,\n",
       " 4,\n",
       " 4,\n",
       " 4,\n",
       " 4,\n",
       " 4,\n",
       " 4,\n",
       " 4,\n",
       " 4,\n",
       " 4,\n",
       " 4,\n",
       " 4,\n",
       " 4,\n",
       " 4,\n",
       " 4,\n",
       " 4,\n",
       " 4,\n",
       " 4,\n",
       " 4,\n",
       " 4,\n",
       " 4,\n",
       " 5,\n",
       " 5,\n",
       " 5,\n",
       " 5,\n",
       " 5,\n",
       " 5,\n",
       " 5,\n",
       " 5,\n",
       " 5,\n",
       " 5,\n",
       " 5,\n",
       " 5,\n",
       " 5,\n",
       " 5,\n",
       " 5,\n",
       " 5,\n",
       " 5,\n",
       " 5,\n",
       " 5,\n",
       " 5,\n",
       " 5,\n",
       " 5,\n",
       " 5,\n",
       " 5,\n",
       " 6,\n",
       " 6,\n",
       " 6,\n",
       " 6,\n",
       " 6,\n",
       " 6,\n",
       " 6,\n",
       " 6,\n",
       " 6,\n",
       " 6,\n",
       " 6,\n",
       " 6,\n",
       " 6,\n",
       " 6,\n",
       " 6,\n",
       " 6,\n",
       " 6,\n",
       " 6,\n",
       " 6,\n",
       " 6,\n",
       " 6,\n",
       " 6,\n",
       " 6,\n",
       " 6,\n",
       " 7,\n",
       " 7,\n",
       " 7,\n",
       " 7,\n",
       " 7,\n",
       " 7,\n",
       " 7,\n",
       " 7,\n",
       " 7,\n",
       " 7,\n",
       " 7,\n",
       " 7,\n",
       " 7,\n",
       " 7,\n",
       " 7,\n",
       " 7,\n",
       " 7,\n",
       " 7,\n",
       " 7,\n",
       " 7,\n",
       " 7,\n",
       " 7,\n",
       " 7,\n",
       " 7,\n",
       " 8,\n",
       " 8,\n",
       " 8,\n",
       " 8,\n",
       " 8,\n",
       " 8,\n",
       " 8,\n",
       " 8,\n",
       " 8,\n",
       " 8,\n",
       " 8,\n",
       " 8,\n",
       " 8,\n",
       " 8,\n",
       " 8,\n",
       " 8,\n",
       " 8,\n",
       " 8,\n",
       " 8,\n",
       " 8,\n",
       " 8,\n",
       " 8,\n",
       " 8,\n",
       " 8,\n",
       " 9,\n",
       " 9,\n",
       " 9,\n",
       " 9,\n",
       " 9,\n",
       " 9,\n",
       " 9,\n",
       " 9,\n",
       " 9,\n",
       " 9,\n",
       " 9,\n",
       " 9,\n",
       " 9,\n",
       " 9,\n",
       " 9,\n",
       " 9,\n",
       " 9,\n",
       " 9,\n",
       " 9,\n",
       " 9,\n",
       " 9,\n",
       " 9,\n",
       " 9,\n",
       " 9,\n",
       " 10,\n",
       " 10,\n",
       " 10,\n",
       " 10,\n",
       " 10,\n",
       " 10,\n",
       " 10,\n",
       " 10,\n",
       " 10,\n",
       " 10,\n",
       " 10,\n",
       " 10,\n",
       " 10,\n",
       " 10,\n",
       " 10,\n",
       " 10,\n",
       " 10,\n",
       " 10,\n",
       " 10,\n",
       " 10,\n",
       " 10,\n",
       " 10,\n",
       " 10,\n",
       " 10,\n",
       " 11,\n",
       " 11,\n",
       " 11,\n",
       " 11,\n",
       " 11,\n",
       " 11,\n",
       " 11,\n",
       " 11,\n",
       " 11,\n",
       " 11,\n",
       " 11,\n",
       " 11,\n",
       " 11,\n",
       " 11,\n",
       " 11,\n",
       " 11,\n",
       " 11,\n",
       " 11,\n",
       " 11,\n",
       " 11,\n",
       " 11,\n",
       " 11,\n",
       " 11,\n",
       " 11,\n",
       " 12,\n",
       " 12,\n",
       " 12,\n",
       " 12,\n",
       " 12,\n",
       " 12,\n",
       " 12,\n",
       " 12,\n",
       " 12,\n",
       " 12,\n",
       " 12,\n",
       " 12,\n",
       " 12,\n",
       " 12,\n",
       " 12,\n",
       " 12,\n",
       " 12,\n",
       " 12,\n",
       " 12,\n",
       " 12,\n",
       " 12,\n",
       " 12,\n",
       " 12,\n",
       " 12,\n",
       " 13,\n",
       " 13,\n",
       " 13,\n",
       " 13,\n",
       " 13,\n",
       " 13,\n",
       " 13,\n",
       " 13,\n",
       " 13,\n",
       " 13,\n",
       " 13,\n",
       " 13,\n",
       " 13,\n",
       " 13,\n",
       " 13,\n",
       " 13,\n",
       " 13,\n",
       " 13,\n",
       " 13,\n",
       " 13,\n",
       " 13,\n",
       " 13,\n",
       " 13,\n",
       " 13,\n",
       " 14,\n",
       " 14,\n",
       " 14,\n",
       " 14,\n",
       " 14,\n",
       " 14,\n",
       " 14,\n",
       " 14,\n",
       " 14,\n",
       " 14,\n",
       " 14,\n",
       " 14,\n",
       " 14,\n",
       " 14,\n",
       " 14,\n",
       " 14,\n",
       " 14,\n",
       " 14,\n",
       " 14,\n",
       " 14,\n",
       " 14,\n",
       " 14,\n",
       " 14,\n",
       " 14,\n",
       " 15,\n",
       " 15,\n",
       " 15,\n",
       " 15,\n",
       " 15,\n",
       " 15,\n",
       " 15,\n",
       " 15,\n",
       " 15,\n",
       " 15,\n",
       " 15,\n",
       " 15,\n",
       " 15,\n",
       " 15,\n",
       " 15,\n",
       " 15,\n",
       " 15,\n",
       " 15,\n",
       " 15,\n",
       " 15,\n",
       " 15,\n",
       " 15,\n",
       " 15,\n",
       " 15]"
      ]
     },
     "execution_count": 15,
     "metadata": {},
     "output_type": "execute_result"
    }
   ],
   "source": [
    "[int(i)//24 for i in range(384)]"
   ]
  },
  {
   "cell_type": "code",
   "execution_count": 16,
   "id": "a8172f4f",
   "metadata": {},
   "outputs": [],
   "source": [
    "x='''\n",
    "* Calibration Pure Dye NED is expired = No \n",
    "* Calibration Pure Dye NED performed on = 04-28-2022 \n",
    "* Calibration Pure Dye ROX is expired = No \n",
    "* Calibration Pure Dye ROX performed on = 04-28-2022 \n",
    "* Experiment Barcode = H3N07YYZ2\n",
    "* Experiment Comment = NA\n",
    "* Experiment Name = 20220819_MapT_e01_48h_H3N07YYZ2\n",
    "* Experiment Type = Comparative\n",
    "'''"
   ]
  },
  {
   "cell_type": "code",
   "execution_count": 17,
   "id": "28027b71",
   "metadata": {},
   "outputs": [
    {
     "data": {
      "text/plain": [
       "['H3N07YYZ2']"
      ]
     },
     "execution_count": 17,
     "metadata": {},
     "output_type": "execute_result"
    }
   ],
   "source": [
    "re.findall(r\"Experiment Barcode = ([a-zA-z\\d]+?)\\s\",x)"
   ]
  },
  {
   "cell_type": "code",
   "execution_count": 18,
   "id": "24b3e65d",
   "metadata": {},
   "outputs": [],
   "source": [
    "xx= '* Experiment Barcode = H3N07YYZ2'"
   ]
  },
  {
   "cell_type": "code",
   "execution_count": 19,
   "id": "2dc859e4",
   "metadata": {},
   "outputs": [
    {
     "data": {
      "text/plain": [
       "21"
      ]
     },
     "execution_count": 19,
     "metadata": {},
     "output_type": "execute_result"
    }
   ],
   "source": [
    "xx.find('=')"
   ]
  },
  {
   "cell_type": "code",
   "execution_count": 20,
   "id": "a5c2d3a2",
   "metadata": {},
   "outputs": [
    {
     "data": {
      "text/plain": [
       "'H3N07YYZ2'"
      ]
     },
     "execution_count": 20,
     "metadata": {},
     "output_type": "execute_result"
    }
   ],
   "source": [
    "xx[xx.find('=')+1:].strip()"
   ]
  },
  {
   "cell_type": "code",
   "execution_count": 21,
   "id": "ca92fcb3",
   "metadata": {},
   "outputs": [],
   "source": [
    "from statistics  import mean"
   ]
  },
  {
   "cell_type": "code",
   "execution_count": 22,
   "id": "0e1ba5bc",
   "metadata": {},
   "outputs": [],
   "source": [
    "xxx = [1,2,3,float('nan'),float('nan'),float('nan'),float('nan'),float('nan')]"
   ]
  },
  {
   "cell_type": "code",
   "execution_count": 23,
   "id": "ef15a393",
   "metadata": {},
   "outputs": [
    {
     "data": {
      "text/plain": [
       "nan"
      ]
     },
     "execution_count": 23,
     "metadata": {},
     "output_type": "execute_result"
    }
   ],
   "source": [
    "mean(xxx)"
   ]
  },
  {
   "cell_type": "code",
   "execution_count": 24,
   "id": "1f46fe54",
   "metadata": {},
   "outputs": [
    {
     "data": {
      "text/plain": [
       "False"
      ]
     },
     "execution_count": 24,
     "metadata": {},
     "output_type": "execute_result"
    }
   ],
   "source": [
    "a=1+1j\n",
    "b=1+1j\n",
    "a is b"
   ]
  },
  {
   "cell_type": "code",
   "execution_count": 25,
   "id": "124a1264",
   "metadata": {},
   "outputs": [
    {
     "data": {
      "text/plain": [
       "140316948550992"
      ]
     },
     "execution_count": 25,
     "metadata": {},
     "output_type": "execute_result"
    }
   ],
   "source": [
    "id(a)"
   ]
  },
  {
   "cell_type": "code",
   "execution_count": 26,
   "id": "804fed82",
   "metadata": {},
   "outputs": [
    {
     "data": {
      "text/plain": [
       "140316948552912"
      ]
     },
     "execution_count": 26,
     "metadata": {},
     "output_type": "execute_result"
    }
   ],
   "source": [
    "id(b)"
   ]
  },
  {
   "cell_type": "code",
   "execution_count": 27,
   "id": "67953383",
   "metadata": {},
   "outputs": [
    {
     "data": {
      "text/plain": [
       "140317432725776"
      ]
     },
     "execution_count": 27,
     "metadata": {},
     "output_type": "execute_result"
    }
   ],
   "source": [
    "a=2\n",
    "id(a)"
   ]
  },
  {
   "cell_type": "code",
   "execution_count": 28,
   "id": "1898efd8",
   "metadata": {},
   "outputs": [
    {
     "data": {
      "text/plain": [
       "140316948552912"
      ]
     },
     "execution_count": 28,
     "metadata": {},
     "output_type": "execute_result"
    }
   ],
   "source": [
    "id(b)"
   ]
  },
  {
   "cell_type": "code",
   "execution_count": 29,
   "id": "d5b9a742",
   "metadata": {},
   "outputs": [
    {
     "data": {
      "text/plain": [
       "140317320250368"
      ]
     },
     "execution_count": 29,
     "metadata": {},
     "output_type": "execute_result"
    }
   ],
   "source": [
    "x=[1,2,3,4]\n",
    "id(x)"
   ]
  },
  {
   "cell_type": "code",
   "execution_count": 30,
   "id": "87faa666",
   "metadata": {},
   "outputs": [
    {
     "data": {
      "text/plain": [
       "140317320250368"
      ]
     },
     "execution_count": 30,
     "metadata": {},
     "output_type": "execute_result"
    }
   ],
   "source": [
    "x.append(5)\n",
    "id(x)"
   ]
  },
  {
   "cell_type": "code",
   "execution_count": 31,
   "id": "3f868d82",
   "metadata": {},
   "outputs": [],
   "source": [
    "x=3\n"
   ]
  },
  {
   "cell_type": "code",
   "execution_count": 32,
   "id": "fb077177",
   "metadata": {},
   "outputs": [],
   "source": [
    "if x == 1:\n",
    "    i=1\n",
    "else:\n",
    "    i=2"
   ]
  },
  {
   "cell_type": "code",
   "execution_count": 33,
   "id": "f7191af4",
   "metadata": {},
   "outputs": [
    {
     "name": "stdout",
     "output_type": "stream",
     "text": [
      "2\n"
     ]
    }
   ],
   "source": [
    "print(i)"
   ]
  },
  {
   "cell_type": "code",
   "execution_count": 34,
   "id": "49f8d22b",
   "metadata": {},
   "outputs": [],
   "source": [
    "x = [i for i in range(1,6)]"
   ]
  },
  {
   "cell_type": "code",
   "execution_count": 35,
   "id": "969042dc",
   "metadata": {},
   "outputs": [
    {
     "data": {
      "text/plain": [
       "[1, 2, 3, 4, 5]"
      ]
     },
     "execution_count": 35,
     "metadata": {},
     "output_type": "execute_result"
    }
   ],
   "source": [
    "x"
   ]
  },
  {
   "cell_type": "code",
   "execution_count": 45,
   "id": "a75bb820",
   "metadata": {},
   "outputs": [
    {
     "data": {
      "text/plain": [
       "120"
      ]
     },
     "execution_count": 45,
     "metadata": {},
     "output_type": "execute_result"
    }
   ],
   "source": [
    "from functools import reduce\n",
    "reduce(lambda a,b : a*b,x)"
   ]
  }
 ],
 "metadata": {
  "kernelspec": {
   "display_name": "Python 3 (ipykernel)",
   "language": "python",
   "name": "python3"
  },
  "language_info": {
   "codemirror_mode": {
    "name": "ipython",
    "version": 3
   },
   "file_extension": ".py",
   "mimetype": "text/x-python",
   "name": "python",
   "nbconvert_exporter": "python",
   "pygments_lexer": "ipython3",
   "version": "3.10.10"
  },
  "vscode": {
   "interpreter": {
    "hash": "573f8c4297b1e807d4e4d51bc4704711e08f3eef39a212b98b763079568da1b1"
   }
  }
 },
 "nbformat": 4,
 "nbformat_minor": 5
}
