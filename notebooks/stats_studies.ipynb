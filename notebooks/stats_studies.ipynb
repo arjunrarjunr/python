{
 "cells": [
  {
   "cell_type": "markdown",
   "metadata": {},
   "source": [
    "FREQUENCY"
   ]
  },
  {
   "cell_type": "code",
   "execution_count": 1,
   "metadata": {},
   "outputs": [],
   "source": [
    "x = [1,2,2,3,3,3,4,4,4,4,5,5,5,5]\n",
    "# x = {1:4,2:5,3:6}\n",
    "x = \"RADHE KRISHNA\""
   ]
  },
  {
   "cell_type": "code",
   "execution_count": 2,
   "metadata": {},
   "outputs": [],
   "source": [
    "def frequency_distribution(input_data_list:list|set|tuple|str):\n",
    "    frequency_dict = {}\n",
    "    if type(input_data_list) is list or type(input_data_list) is set or type(input_data_list) is tuple or type(input_data_list) is str:\n",
    "        for i in input_data_list:\n",
    "            try:\n",
    "                frequency_dict[i] += 1\n",
    "            except KeyError:\n",
    "                frequency_dict[i] = 1\n",
    "        return frequency_dict\n",
    "    else:\n",
    "        raise TypeError(\"The input data should be either list or tuple or set or string\")\n"
   ]
  },
  {
   "cell_type": "code",
   "execution_count": 3,
   "metadata": {},
   "outputs": [],
   "source": [
    "def print_dict(x):\n",
    "    for i,j in x.items():\n",
    "        print(\"key :\",i,\"value :\",j)"
   ]
  },
  {
   "cell_type": "code",
   "execution_count": 4,
   "metadata": {},
   "outputs": [
    {
     "name": "stdout",
     "output_type": "stream",
     "text": [
      "key : R value : 2\n",
      "key : A value : 2\n",
      "key : D value : 1\n",
      "key : H value : 2\n",
      "key : E value : 1\n",
      "key :   value : 1\n",
      "key : K value : 1\n",
      "key : I value : 1\n",
      "key : S value : 1\n",
      "key : N value : 1\n"
     ]
    }
   ],
   "source": [
    "print_dict(frequency_distribution(input_data_list = x))"
   ]
  },
  {
   "cell_type": "code",
   "execution_count": 5,
   "metadata": {},
   "outputs": [],
   "source": [
    "from statsmodels.stats.weightstats import ztest"
   ]
  },
  {
   "cell_type": "code",
   "execution_count": 6,
   "metadata": {},
   "outputs": [
    {
     "data": {
      "text/plain": [
       "(0.0, 1.0)"
      ]
     },
     "execution_count": 6,
     "metadata": {},
     "output_type": "execute_result"
    }
   ],
   "source": [
    "ztest(x1 = [2,3,4], value = 3)"
   ]
  }
 ],
 "metadata": {
  "kernelspec": {
   "display_name": "Python 3.10.8 64-bit",
   "language": "python",
   "name": "python3"
  },
  "language_info": {
   "codemirror_mode": {
    "name": "ipython",
    "version": 3
   },
   "file_extension": ".py",
   "mimetype": "text/x-python",
   "name": "python",
   "nbconvert_exporter": "python",
   "pygments_lexer": "ipython3",
   "version": "3.10.8"
  },
  "orig_nbformat": 4,
  "vscode": {
   "interpreter": {
    "hash": "573f8c4297b1e807d4e4d51bc4704711e08f3eef39a212b98b763079568da1b1"
   }
  }
 },
 "nbformat": 4,
 "nbformat_minor": 2
}
