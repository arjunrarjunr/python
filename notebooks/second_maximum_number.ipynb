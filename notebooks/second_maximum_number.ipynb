{
 "cells": [
  {
   "cell_type": "code",
   "execution_count": 20,
   "metadata": {},
   "outputs": [],
   "source": [
    "input = [ -9, -9, -9, -7, -7, -5, -3, -1, 1, 3, 5, 7, 7, 9, 9, 9]\n",
    "# input = [ 800, 100, 300, 456, 67, 87, 89]"
   ]
  },
  {
   "cell_type": "code",
   "execution_count": 21,
   "metadata": {},
   "outputs": [],
   "source": [
    "def second_maximum(input):\n",
    "    ip = list(set(input))\n",
    "    second_max_list = []\n",
    "    while len(second_max_list) < 2:\n",
    "        max = None\n",
    "        pointer = None\n",
    "        temp_ip = []\n",
    "        for j,i in enumerate(ip):\n",
    "            if max is None:\n",
    "                 max,pointer = i,j            \n",
    "            if i > max and i not in second_max_list:\n",
    "                 max,pointer = i,j \n",
    "        second_max_list += [max]\n",
    "        for i in ip:\n",
    "            if i != max:\n",
    "                temp_ip += [i]\n",
    "        temp_ip = ip\n",
    "    return second_max_list[-1]"
   ]
  },
  {
   "cell_type": "code",
   "execution_count": 22,
   "metadata": {},
   "outputs": [],
   "source": [
    "def second_minimum(input):\n",
    "    ip = list(set(input))\n",
    "    second_min_list = []\n",
    "    while len(second_min_list) < 2:\n",
    "        min = None\n",
    "        pointer = None\n",
    "        temp_ip = []\n",
    "        for j,i in enumerate(input):\n",
    "            if min is None:\n",
    "                min,pointer = i,j         \n",
    "            if i < min and i not in second_min_list:\n",
    "                min,pointer = i,j\n",
    "        second_min_list += [min]\n",
    "        for i in ip:\n",
    "            if i != min:\n",
    "                temp_ip += [i]\n",
    "        temp_ip = ip\n",
    "    return second_min_list[-1]"
   ]
  },
  {
   "cell_type": "code",
   "execution_count": 23,
   "metadata": {},
   "outputs": [
    {
     "data": {
      "text/plain": [
       "7"
      ]
     },
     "execution_count": 23,
     "metadata": {},
     "output_type": "execute_result"
    }
   ],
   "source": [
    "second_maximum(input)"
   ]
  },
  {
   "cell_type": "code",
   "execution_count": 24,
   "metadata": {},
   "outputs": [
    {
     "data": {
      "text/plain": [
       "-9"
      ]
     },
     "execution_count": 24,
     "metadata": {},
     "output_type": "execute_result"
    }
   ],
   "source": [
    "second_minimum(input)"
   ]
  },
  {
   "cell_type": "code",
   "execution_count": 27,
   "metadata": {},
   "outputs": [],
   "source": [
    "input = [ -9, -9, -9, -7, -7, -5, -3, -1, 1, 3, 5, 7, 7, 9, 9, 9]"
   ]
  },
  {
   "cell_type": "code",
   "execution_count": 32,
   "metadata": {},
   "outputs": [],
   "source": [
    "def second_maximum(input):\n",
    "   ip = []\n",
    "   second_max_list = []\n",
    "   second_max_list_length = 0\n",
    "   ip_length = 0\n",
    "   for i in input:\n",
    "      if i not in ip:\n",
    "         ip += [i]     \n",
    "   for i in ip:\n",
    "      ip_length += 1\n",
    "   while second_max_list_length < ip_length:\n",
    "      max = None\n",
    "      temp_ip = []\n",
    "      for i in ip:\n",
    "         if max is None:\n",
    "               max = i           \n",
    "         if i > max and i not in second_max_list:\n",
    "               max = i\n",
    "      second_max_list += [max]\n",
    "      for i in second_max_list:\n",
    "         second_max_list_length += 1\n",
    "   print(ip)\n",
    "   print(second_max_list)\n",
    "   return second_max_list[1]\n"
   ]
  },
  {
   "cell_type": "code",
   "execution_count": 33,
   "metadata": {},
   "outputs": [
    {
     "name": "stdout",
     "output_type": "stream",
     "text": [
      "[-9, -7, -5, -3, -1, 1, 3, 5, 7, 9]\n",
      "[9, 7, 5, 3]\n"
     ]
    },
    {
     "data": {
      "text/plain": [
       "7"
      ]
     },
     "execution_count": 33,
     "metadata": {},
     "output_type": "execute_result"
    }
   ],
   "source": [
    "second_maximum(input)"
   ]
  }
 ],
 "metadata": {
  "kernelspec": {
   "display_name": "Python 3.10.6 64-bit",
   "language": "python",
   "name": "python3"
  },
  "language_info": {
   "codemirror_mode": {
    "name": "ipython",
    "version": 3
   },
   "file_extension": ".py",
   "mimetype": "text/x-python",
   "name": "python",
   "nbconvert_exporter": "python",
   "pygments_lexer": "ipython3",
   "version": "3.10.7"
  },
  "orig_nbformat": 4,
  "vscode": {
   "interpreter": {
    "hash": "573f8c4297b1e807d4e4d51bc4704711e08f3eef39a212b98b763079568da1b1"
   }
  }
 },
 "nbformat": 4,
 "nbformat_minor": 2
}
