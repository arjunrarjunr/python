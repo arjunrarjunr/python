{
 "cells": [
  {
   "cell_type": "markdown",
   "id": "365a51f6-b0af-49e4-967c-e33cdda122cb",
   "metadata": {},
   "source": [
    "> # **DOCKER**\n",
    "Docker is an open platform for developing, shipping, and running applications. Docker enables you to separate your applications from your infrastructure so you can deliver software quickly. With Docker, you can manage your infrastructure in the same ways you manage your applications. By taking advantage of Docker’s methodologies for shipping, testing, and deploying code quickly, you can significantly reduce the delay between writing code and running it in production.  \n",
    "> ### **Architecture**\n",
    "Docker uses a client-server architecture.  \n",
    "https://docs.docker.com/get-started/overview/  \n",
    "# ![sampling_methods](data/docker_images/Docker_Architecture.png)\n",
    "> ### **The Docker daemon**\n",
    "The Docker daemon (dockerd) listens for Docker API requests and manages Docker objects such as images, containers, networks, and volumes. A daemon can also communicate with other daemons to manage Docker services.  \n",
    "> ### **The Docker client**\n",
    "The Docker client (docker) is the primary way that many Docker users interact with Docker. When you use commands such as docker run, the client sends these commands to dockerd, which carries them out. The docker command uses the Docker API. The Docker client can communicate with more than one daemon.\n",
    "> ### **Images**\n",
    "An image is a read-only template with instructions for creating a Docker container. Often, an image is based on another image, with some additional customization. For example, you may build an image which is based on the ubuntu image, but installs the Apache web server and your application, as well as the configuration details needed to make your application run.\n",
    "> ### **Uses**\n",
    "Fast, consistent delivery of your applications  \n",
    "Responsive deployment and scaling  \n",
    "Running more workloads on the same hardware  "
   ]
  }
 ],
 "metadata": {
  "kernelspec": {
   "display_name": "Python 3 (ipykernel)",
   "language": "python",
   "name": "python3"
  },
  "language_info": {
   "codemirror_mode": {
    "name": "ipython",
    "version": 3
   },
   "file_extension": ".py",
   "mimetype": "text/x-python",
   "name": "python",
   "nbconvert_exporter": "python",
   "pygments_lexer": "ipython3",
   "version": "3.10.9"
  }
 },
 "nbformat": 4,
 "nbformat_minor": 5
}
