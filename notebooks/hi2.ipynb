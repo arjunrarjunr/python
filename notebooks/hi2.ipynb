{
 "cells": [
  {
   "cell_type": "code",
   "execution_count": 1,
   "metadata": {},
   "outputs": [
    {
     "name": "stdout",
     "output_type": "stream",
     "text": [
      "arjun\n",
      "1\n",
      "2\n",
      "3\n",
      "4\n",
      "arjun\n",
      "6\n",
      "7\n",
      "8\n",
      "9\n",
      "arjun\n",
      "11\n",
      "12\n",
      "13\n",
      "14\n",
      "arjun\n",
      "16\n",
      "17\n",
      "18\n",
      "19\n"
     ]
    }
   ],
   "source": [
    "for i in range(20):\n",
    "    if i%5 == 0:\n",
    "        i = 'arjun'\n",
    "    print(i)"
   ]
  }
 ],
 "metadata": {
  "kernelspec": {
   "display_name": "Python 3 (ipykernel)",
   "language": "python",
   "name": "python3"
  },
  "language_info": {
   "codemirror_mode": {
    "name": "ipython",
    "version": 3
   },
   "file_extension": ".py",
   "mimetype": "text/x-python",
   "name": "python",
   "nbconvert_exporter": "python",
   "pygments_lexer": "ipython3",
   "version": "3.10.10"
  },
  "vscode": {
   "interpreter": {
    "hash": "573f8c4297b1e807d4e4d51bc4704711e08f3eef39a212b98b763079568da1b1"
   }
  }
 },
 "nbformat": 4,
 "nbformat_minor": 4
}
