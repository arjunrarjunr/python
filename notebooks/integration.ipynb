{
 "cells": [
  {
   "cell_type": "code",
   "execution_count": 1,
   "metadata": {},
   "outputs": [],
   "source": [
    "res = 0.3\n",
    "cmin = 0\n",
    "cmax= 10\n",
    "integral_list = [cmin]"
   ]
  },
  {
   "cell_type": "code",
   "execution_count": 2,
   "metadata": {},
   "outputs": [],
   "source": [
    "while integral_list[-1] < cmax:\n",
    "    if integral_list[-1] + res < cmax:\n",
    "        integral_list.append(integral_list[-1] + res)\n",
    "    elif integral_list[-1] != cmax:\n",
    "        integral_list.append(cmax)\n",
    "        break  "
   ]
  },
  {
   "cell_type": "code",
   "execution_count": 3,
   "metadata": {},
   "outputs": [
    {
     "data": {
      "text/plain": [
       "[0,\n",
       " 0.3,\n",
       " 0.6,\n",
       " 0.8999999999999999,\n",
       " 1.2,\n",
       " 1.5,\n",
       " 1.8,\n",
       " 2.1,\n",
       " 2.4,\n",
       " 2.6999999999999997,\n",
       " 2.9999999999999996,\n",
       " 3.2999999999999994,\n",
       " 3.599999999999999,\n",
       " 3.899999999999999,\n",
       " 4.199999999999999,\n",
       " 4.499999999999999,\n",
       " 4.799999999999999,\n",
       " 5.099999999999999,\n",
       " 5.399999999999999,\n",
       " 5.699999999999998,\n",
       " 5.999999999999998,\n",
       " 6.299999999999998,\n",
       " 6.599999999999998,\n",
       " 6.899999999999998,\n",
       " 7.1999999999999975,\n",
       " 7.499999999999997,\n",
       " 7.799999999999997,\n",
       " 8.099999999999998,\n",
       " 8.399999999999999,\n",
       " 8.7,\n",
       " 9.0,\n",
       " 9.3,\n",
       " 9.600000000000001,\n",
       " 9.900000000000002,\n",
       " 10]"
      ]
     },
     "execution_count": 3,
     "metadata": {},
     "output_type": "execute_result"
    }
   ],
   "source": [
    "integral_list"
   ]
  },
  {
   "cell_type": "code",
   "execution_count": 4,
   "metadata": {},
   "outputs": [],
   "source": [
    "from math import exp\n",
    "from numpy import e\n",
    "\n",
    "\n",
    "AUC = 0\n",
    "for i,j in enumerate(integral_list):\n",
    "    if j == cmax:\n",
    "        AUC += (j - integral_list[i-1]) * 1\n",
    "    elif i >= 1:\n",
    "        AUC += (res) * 1"
   ]
  },
  {
   "cell_type": "code",
   "execution_count": 5,
   "metadata": {},
   "outputs": [
    {
     "data": {
      "text/plain": [
       "10.0"
      ]
     },
     "execution_count": 5,
     "metadata": {},
     "output_type": "execute_result"
    }
   ],
   "source": [
    "AUC"
   ]
  },
  {
   "cell_type": "code",
   "execution_count": 6,
   "metadata": {},
   "outputs": [
    {
     "data": {
      "text/plain": [
       "10.0"
      ]
     },
     "execution_count": 6,
     "metadata": {},
     "output_type": "execute_result"
    }
   ],
   "source": [
    "cc = cmin + res\n",
    "pc = 0\n",
    "AUC = 0\n",
    "while cc <= cmax:\n",
    "        AUC += (res) * 1\n",
    "        pc = cc\n",
    "        cc += res\n",
    "else:\n",
    "    if pc != cmax:\n",
    "        AUC += (cmax-pc) * 1\n",
    "\n",
    "AUC\n",
    "\n",
    "\n"
   ]
  },
  {
   "cell_type": "code",
   "execution_count": null,
   "metadata": {},
   "outputs": [],
   "source": []
  }
 ],
 "metadata": {
  "kernelspec": {
   "display_name": "Python 3.10.7 64-bit",
   "language": "python",
   "name": "python3"
  },
  "language_info": {
   "codemirror_mode": {
    "name": "ipython",
    "version": 3
   },
   "file_extension": ".py",
   "mimetype": "text/x-python",
   "name": "python",
   "nbconvert_exporter": "python",
   "pygments_lexer": "ipython3",
   "version": "3.10.7"
  },
  "orig_nbformat": 4,
  "vscode": {
   "interpreter": {
    "hash": "573f8c4297b1e807d4e4d51bc4704711e08f3eef39a212b98b763079568da1b1"
   }
  }
 },
 "nbformat": 4,
 "nbformat_minor": 2
}
