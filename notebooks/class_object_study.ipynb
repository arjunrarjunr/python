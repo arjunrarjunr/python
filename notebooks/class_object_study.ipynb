{
 "cells": [
  {
   "cell_type": "code",
   "execution_count": 49,
   "metadata": {},
   "outputs": [],
   "source": [
    "class school:\n",
    "    def __init__(self):\n",
    "        self.school_name = \"VMHSS\"\n",
    "        self._home_room_teachers = { \n",
    "                               11 : \"babu\",\n",
    "                               12 : \"sudha\"\n",
    "                                }\n",
    "        self.__internet_bill = 3339"
   ]
  },
  {
   "cell_type": "code",
   "execution_count": 50,
   "metadata": {},
   "outputs": [],
   "source": [
    "class student(school):\n",
    "    def __init__(self, name, year, reg_no, dob):\n",
    "        school.__init__(self)\n",
    "        self._name = name\n",
    "        self._year = year\n",
    "        self.reg_no = reg_no\n",
    "        self._dob = dob\n",
    "        self.teacher = self._home_room_teachers[year]"
   ]
  },
  {
   "cell_type": "code",
   "execution_count": 51,
   "metadata": {},
   "outputs": [],
   "source": [
    "a = school()"
   ]
  },
  {
   "cell_type": "code",
   "execution_count": 52,
   "metadata": {},
   "outputs": [
    {
     "data": {
      "text/plain": [
       "'VMHSS'"
      ]
     },
     "execution_count": 52,
     "metadata": {},
     "output_type": "execute_result"
    }
   ],
   "source": [
    "a.school_name"
   ]
  },
  {
   "cell_type": "code",
   "execution_count": 53,
   "metadata": {},
   "outputs": [],
   "source": [
    "s = student(\"aswin\",11,123456,\"14102005\")"
   ]
  }
 ],
 "metadata": {
  "kernelspec": {
   "display_name": "Python 3",
   "language": "python",
   "name": "python3"
  },
  "language_info": {
   "codemirror_mode": {
    "name": "ipython",
    "version": 3
   },
   "file_extension": ".py",
   "mimetype": "text/x-python",
   "name": "python",
   "nbconvert_exporter": "python",
   "pygments_lexer": "ipython3",
   "version": "3.10.10"
  },
  "orig_nbformat": 4
 },
 "nbformat": 4,
 "nbformat_minor": 2
}
